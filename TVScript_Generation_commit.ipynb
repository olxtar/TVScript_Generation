{
 "cells": [
  {
   "cell_type": "code",
   "execution_count": 2,
   "id": "d8b0ae8d",
   "metadata": {},
   "outputs": [
    {
     "name": "stdout",
     "output_type": "stream",
     "text": [
      "Reinitialized existing Git repository in C:/Users/USER/Desktop/Udacity/TVScript_Generation/code/.git/\n"
     ]
    }
   ],
   "source": [
    "!git init"
   ]
  },
  {
   "cell_type": "code",
   "execution_count": 5,
   "id": "9959d89f",
   "metadata": {},
   "outputs": [],
   "source": [
    "!git add ."
   ]
  },
  {
   "cell_type": "code",
   "execution_count": 4,
   "id": "629d8249",
   "metadata": {},
   "outputs": [],
   "source": [
    "!git config --global core.autocrlf True"
   ]
  },
  {
   "cell_type": "code",
   "execution_count": 6,
   "id": "cef0927b",
   "metadata": {},
   "outputs": [
    {
     "name": "stdout",
     "output_type": "stream",
     "text": [
      "[master (root-commit) 18166b2] 20220817 commit\n",
      " 10 files changed, 3441 insertions(+)\n",
      " create mode 100644 .ipynb_checkpoints/TVScript_Generation-checkpoint.ipynb\n",
      " create mode 100644 .ipynb_checkpoints/TVScript_Generation_commit-checkpoint.ipynb\n",
      " create mode 100644 TVScript_Generation.ipynb\n",
      " create mode 100644 TVScript_Generation_commit.ipynb\n",
      " create mode 100644 __pycache__/helper.cpython-39.pyc\n",
      " create mode 100644 __pycache__/problem_unittests.cpython-39.pyc\n",
      " create mode 100644 helper.py\n",
      " create mode 100644 preprocess.p\n",
      " create mode 100644 problem_unittests.py\n",
      " create mode 100644 workspace_utils.py\n"
     ]
    }
   ],
   "source": [
    "!git commit -m \"20220817 commit\""
   ]
  },
  {
   "cell_type": "code",
   "execution_count": 7,
   "id": "c53a16dd",
   "metadata": {},
   "outputs": [],
   "source": [
    "!git branch -M main"
   ]
  },
  {
   "cell_type": "code",
   "execution_count": 8,
   "id": "c89f9f7c",
   "metadata": {},
   "outputs": [],
   "source": [
    "!git remote add origin https://github.com/olxtar/TVScript_Generation.git"
   ]
  },
  {
   "cell_type": "code",
   "execution_count": 9,
   "id": "a26e6cd2",
   "metadata": {},
   "outputs": [
    {
     "name": "stdout",
     "output_type": "stream",
     "text": [
      "branch 'main' set up to track 'origin/main'.\n"
     ]
    },
    {
     "name": "stderr",
     "output_type": "stream",
     "text": [
      "To https://github.com/olxtar/TVScript_Generation.git\n",
      " * [new branch]      main -> main\n"
     ]
    }
   ],
   "source": [
    "!git push -u origin main"
   ]
  },
  {
   "cell_type": "markdown",
   "id": "53729ab8",
   "metadata": {},
   "source": [
    "## 수정 후 commit"
   ]
  },
  {
   "cell_type": "code",
   "execution_count": 10,
   "id": "c772ab80",
   "metadata": {},
   "outputs": [],
   "source": [
    "!git config --global core.autocrlf True"
   ]
  },
  {
   "cell_type": "code",
   "execution_count": null,
   "id": "67b8530e",
   "metadata": {},
   "outputs": [],
   "source": [
    "!git add ."
   ]
  },
  {
   "cell_type": "code",
   "execution_count": null,
   "id": "552cbe22",
   "metadata": {},
   "outputs": [],
   "source": [
    "!git commit -m \"20220809 commit\""
   ]
  },
  {
   "cell_type": "code",
   "execution_count": null,
   "id": "5bd30f6a",
   "metadata": {},
   "outputs": [],
   "source": [
    "!git push -u origin main"
   ]
  }
 ],
 "metadata": {
  "kernelspec": {
   "display_name": "Python 3 (ipykernel)",
   "language": "python",
   "name": "python3"
  },
  "language_info": {
   "codemirror_mode": {
    "name": "ipython",
    "version": 3
   },
   "file_extension": ".py",
   "mimetype": "text/x-python",
   "name": "python",
   "nbconvert_exporter": "python",
   "pygments_lexer": "ipython3",
   "version": "3.9.7"
  }
 },
 "nbformat": 4,
 "nbformat_minor": 5
}
