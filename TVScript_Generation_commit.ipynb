{
 "cells": [
  {
   "cell_type": "code",
   "execution_count": 2,
   "id": "8197fd44",
   "metadata": {},
   "outputs": [
    {
     "name": "stdout",
     "output_type": "stream",
     "text": [
      "Reinitialized existing Git repository in C:/Users/USER/Desktop/Udacity/TVScript_Generation/code/.git/\n"
     ]
    }
   ],
   "source": [
    "!git init"
   ]
  },
  {
   "cell_type": "code",
   "execution_count": 5,
   "id": "3019e5e9",
   "metadata": {},
   "outputs": [],
   "source": [
    "!git add ."
   ]
  },
  {
   "cell_type": "code",
   "execution_count": 4,
   "id": "1ac12b88",
   "metadata": {},
   "outputs": [],
   "source": [
    "!git config --global core.autocrlf True"
   ]
  },
  {
   "cell_type": "code",
   "execution_count": 6,
   "id": "bb21dda8",
   "metadata": {},
   "outputs": [
    {
     "name": "stdout",
     "output_type": "stream",
     "text": [
      "[master (root-commit) 18166b2] 20220817 commit\n",
      " 10 files changed, 3441 insertions(+)\n",
      " create mode 100644 .ipynb_checkpoints/TVScript_Generation-checkpoint.ipynb\n",
      " create mode 100644 .ipynb_checkpoints/TVScript_Generation_commit-checkpoint.ipynb\n",
      " create mode 100644 TVScript_Generation.ipynb\n",
      " create mode 100644 TVScript_Generation_commit.ipynb\n",
      " create mode 100644 __pycache__/helper.cpython-39.pyc\n",
      " create mode 100644 __pycache__/problem_unittests.cpython-39.pyc\n",
      " create mode 100644 helper.py\n",
      " create mode 100644 preprocess.p\n",
      " create mode 100644 problem_unittests.py\n",
      " create mode 100644 workspace_utils.py\n"
     ]
    }
   ],
   "source": [
    "!git commit -m \"20220817 commit\""
   ]
  },
  {
   "cell_type": "code",
   "execution_count": 7,
   "id": "5f582d80",
   "metadata": {},
   "outputs": [],
   "source": [
    "!git branch -M main"
   ]
  },
  {
   "cell_type": "code",
   "execution_count": 8,
   "id": "aba98c94",
   "metadata": {},
   "outputs": [],
   "source": [
    "!git remote add origin https://github.com/olxtar/TVScript_Generation.git"
   ]
  },
  {
   "cell_type": "code",
   "execution_count": 9,
   "id": "1c86a9c6",
   "metadata": {},
   "outputs": [
    {
     "name": "stdout",
     "output_type": "stream",
     "text": [
      "branch 'main' set up to track 'origin/main'.\n"
     ]
    },
    {
     "name": "stderr",
     "output_type": "stream",
     "text": [
      "To https://github.com/olxtar/TVScript_Generation.git\n",
      " * [new branch]      main -> main\n"
     ]
    }
   ],
   "source": [
    "!git push -u origin main"
   ]
  },
  {
   "cell_type": "markdown",
   "id": "7d5d83ed",
   "metadata": {},
   "source": [
    "## 수정 후 commit"
   ]
  },
  {
   "cell_type": "code",
   "execution_count": 13,
   "id": "6758a35c",
   "metadata": {},
   "outputs": [],
   "source": [
    "!git config --global core.autocrlf True"
   ]
  },
  {
   "cell_type": "code",
   "execution_count": 14,
   "id": "3172f9d8",
   "metadata": {},
   "outputs": [],
   "source": [
    "!git add ."
   ]
  },
  {
   "cell_type": "code",
   "execution_count": 15,
   "id": "923481a9",
   "metadata": {},
   "outputs": [
    {
     "name": "stdout",
     "output_type": "stream",
     "text": [
      "[main 91edac7] 20220818 commit\n",
      " 6 files changed, 1412 insertions(+), 72 deletions(-)\n",
      " create mode 100644 __pycache__/workspace_utils.cpython-39.pyc\n",
      " create mode 100644 trained_rnn_epoch1.pt\n"
     ]
    }
   ],
   "source": [
    "!git commit -m \"20220818 commit\""
   ]
  },
  {
   "cell_type": "code",
   "execution_count": 16,
   "id": "b696ece2",
   "metadata": {},
   "outputs": [
    {
     "name": "stdout",
     "output_type": "stream",
     "text": [
      "branch 'main' set up to track 'origin/main'.\n"
     ]
    },
    {
     "name": "stderr",
     "output_type": "stream",
     "text": [
      "remote: warning: See http://git.io/iEPt8g for more information.        \n",
      "remote: warning: File trained_rnn_epoch1.pt is 89.63 MB; this is larger than GitHub's recommended maximum file size of 50.00 MB        \n",
      "remote: warning: GH001: Large files detected. You may want to try Git Large File Storage - https://git-lfs.github.com.        \n",
      "To https://github.com/olxtar/TVScript_Generation.git\n",
      "   18166b2..91edac7  main -> main\n"
     ]
    }
   ],
   "source": [
    "!git push -u origin main"
   ]
  },
  {
   "cell_type": "code",
   "execution_count": null,
   "id": "ac3e6af5",
   "metadata": {},
   "outputs": [],
   "source": []
  }
 ],
 "metadata": {
  "kernelspec": {
   "display_name": "Python 3 (ipykernel)",
   "language": "python",
   "name": "python3"
  },
  "language_info": {
   "codemirror_mode": {
    "name": "ipython",
    "version": 3
   },
   "file_extension": ".py",
   "mimetype": "text/x-python",
   "name": "python",
   "nbconvert_exporter": "python",
   "pygments_lexer": "ipython3",
   "version": "3.9.7"
  }
 },
 "nbformat": 4,
 "nbformat_minor": 5
}
